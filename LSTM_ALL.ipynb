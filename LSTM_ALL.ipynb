{
 "cells": [
  {
   "cell_type": "code",
   "execution_count": 1,
   "id": "6c5b95e1-7e99-47cf-a70d-43344bdf4f14",
   "metadata": {},
   "outputs": [],
   "source": [
    "import numpy as np\n",
    "import pandas as pd\n",
    "import os\n",
    "import glob\n",
    "import shutil\n",
    "from tensorflow import keras\n",
    "import matplotlib.pyplot as plt\n",
    "from matplotlib.ticker import MultipleLocator\n",
    "from keras.layers import Dense, LSTM\n",
    "from keras.models import Sequential\n",
    "from keras.layers import Masking\n",
    "import keras_tuner as kt\n",
    "from pathlib import Path\n",
    "import joblib # for saving and loading variables\n",
    "import io\n",
    "import contextlib\n",
    "from sklearn.metrics import confusion_matrix\n",
    "import seaborn as sns\n",
    "from sklearn.model_selection import train_test_split\n",
    "from sklearn.metrics import classification_report, balanced_accuracy_score"
   ]
  },
  {
   "cell_type": "code",
   "execution_count": 12,
   "id": "700d4a7d-7f0e-4029-b75d-e07669a29d87",
   "metadata": {},
   "outputs": [],
   "source": [
    "base_folder = Path('C:/Users/ilkele4s/')\n",
    "\n",
    "main_results_folder = 'ML_Results'\n",
    "new_results_folder = 'LSTM_new_script'\n",
    "\n",
    "data_folder = 'Data'\n",
    "#data_file = 'All_Electrodes_data.csv'\n",
    "\n",
    "tune_folder = 'Tune'\n",
    "hp_project_name = 'Random'"
   ]
  },
  {
   "cell_type": "code",
   "execution_count": 13,
   "id": "9db26adc-ab24-423f-be14-9f7c8f489045",
   "metadata": {},
   "outputs": [],
   "source": [
    "\n",
    "\n",
    "# Iterate over matching files and delete them\n"
   ]
  },
  {
   "cell_type": "code",
   "execution_count": 14,
   "id": "0aee9f0b-864e-4619-a16a-5b4813d62825",
   "metadata": {},
   "outputs": [
    {
     "name": "stdout",
     "output_type": "stream",
     "text": [
      "['C:\\\\Users\\\\ilkele4s\\\\Data\\\\electrode_1.csv', 'C:\\\\Users\\\\ilkele4s\\\\Data\\\\electrode_10.csv', 'C:\\\\Users\\\\ilkele4s\\\\Data\\\\electrode_11.csv', 'C:\\\\Users\\\\ilkele4s\\\\Data\\\\electrode_12.csv', 'C:\\\\Users\\\\ilkele4s\\\\Data\\\\electrode_13.csv', 'C:\\\\Users\\\\ilkele4s\\\\Data\\\\electrode_all.csv']\n"
     ]
    }
   ],
   "source": [
    "print(matching_files)"
   ]
  },
  {
   "cell_type": "code",
   "execution_count": 15,
   "id": "8c5c4e2a-fcef-4204-ac41-70f1c4ca48ed",
   "metadata": {},
   "outputs": [
    {
     "name": "stdout",
     "output_type": "stream",
     "text": [
      "File 'C:\\Users\\ilkele4s\\Data\\electrode_1.csv'loaded successfully.\n",
      "File 'C:\\Users\\ilkele4s\\Data\\electrode_10.csv'loaded successfully.\n",
      "File 'C:\\Users\\ilkele4s\\Data\\electrode_11.csv'loaded successfully.\n",
      "File 'C:\\Users\\ilkele4s\\Data\\electrode_12.csv'loaded successfully.\n",
      "File 'C:\\Users\\ilkele4s\\Data\\electrode_13.csv'loaded successfully.\n",
      "File 'C:\\Users\\ilkele4s\\Data\\electrode_all.csv'loaded successfully.\n"
     ]
    }
   ],
   "source": [
    "for file in matching_files:\n",
    "    try:\n",
    "        Data = pd.read_csv(file, header = None)\n",
    "        print(f\"File '{file}'loaded successfully.\")\n",
    "    except OSError as e:\n",
    "        print(f\"Error loading '{file}': {e}\")"
   ]
  },
  {
   "cell_type": "code",
   "execution_count": 8,
   "id": "77450159-85b3-4f52-9e3f-1e5cde6e0c20",
   "metadata": {},
   "outputs": [],
   "source": [
    "matching_files = glob.glob(os.path.join(file_path, pattern))"
   ]
  },
  {
   "cell_type": "code",
   "execution_count": 9,
   "id": "d07386c7-fca9-4a85-bb45-43805bef8961",
   "metadata": {},
   "outputs": [
    {
     "name": "stdout",
     "output_type": "stream",
     "text": [
      "['C:\\\\Users\\\\ilkele4s\\\\Data\\\\Electrodes', 'C:\\\\Users\\\\ilkele4s\\\\Data\\\\electrode_all.csv']\n"
     ]
    }
   ],
   "source": [
    "print(matching_files)"
   ]
  },
  {
   "cell_type": "code",
   "execution_count": 27,
   "id": "43079f51-63d3-43f7-a9d1-0a4311845c55",
   "metadata": {},
   "outputs": [],
   "source": [
    "results_dir = os.path.join(base_folder,main_results_folder)\n",
    "\n",
    "new_results_dir = os.path.join(results_dir,new_results_folder)"
   ]
  },
  {
   "cell_type": "code",
   "execution_count": null,
   "id": "e1dcfbca-fe6a-4744-9ad3-b0aef21a80b7",
   "metadata": {
    "tags": []
   },
   "outputs": [],
   "source": [
    "os.mkdir(new_results_dir)\n",
    "\n",
    "print(new_results_dir)"
   ]
  },
  {
   "cell_type": "code",
   "execution_count": 28,
   "id": "4e8c8526-2072-4534-bbff-34a9557e1858",
   "metadata": {},
   "outputs": [],
   "source": [
    "tune_dir = os.path.join(new_results_dir,tune_folder)"
   ]
  },
  {
   "cell_type": "code",
   "execution_count": null,
   "id": "fbaaad16-cfb8-4a0f-8339-af34e863a930",
   "metadata": {},
   "outputs": [],
   "source": [
    "# load the data \n",
    "data_dir = os.path.join(base_folder,data_folder)\n",
    "\n",
    "data_file_path = os.path.join(data_dir,data_file)\n",
    "\n",
    "print(data_file_path)\n",
    "\n",
    "Data = pd.read_csv(data_file_path, header = None)"
   ]
  }
 ],
 "metadata": {
  "kernelspec": {
   "display_name": "Python 3 (ipykernel)",
   "language": "python",
   "name": "python3"
  },
  "language_info": {
   "codemirror_mode": {
    "name": "ipython",
    "version": 3
   },
   "file_extension": ".py",
   "mimetype": "text/x-python",
   "name": "python",
   "nbconvert_exporter": "python",
   "pygments_lexer": "ipython3",
   "version": "3.10.9"
  }
 },
 "nbformat": 4,
 "nbformat_minor": 5
}
